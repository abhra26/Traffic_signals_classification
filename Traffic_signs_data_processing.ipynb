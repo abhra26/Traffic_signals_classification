{
 "cells": [
  {
   "cell_type": "markdown",
   "metadata": {},
   "source": [
    "Processing Training Data"
   ]
  },
  {
   "cell_type": "code",
   "execution_count": null,
   "metadata": {},
   "outputs": [],
   "source": [
    "import tensorflow as tf\n",
    "from tensorflow import keras\n",
    "import numpy as np\n",
    "from matplotlib import pyplot as plt\n",
    "import cv2\n",
    "import random\n",
    "import os"
   ]
  },
  {
   "cell_type": "code",
   "execution_count": 31,
   "metadata": {},
   "outputs": [],
   "source": [
    "DATA_DIR = \"/Users/abhraneelsaha/Desktop/traffic_signs/traffic_Data\"\n",
    "SET = [\"DATA\",\"TEST\"]\n",
    "CATEGORIES = [str(i) for i in range(58)]"
   ]
  },
  {
   "cell_type": "code",
   "execution_count": 32,
   "metadata": {},
   "outputs": [],
   "source": [
    "TRAIN = []\n",
    "TRAIN_PARENT_PATH = os.path.join(DATA_DIR,SET[0])\n",
    "for category in CATEGORIES:\n",
    "    PATH = os.path.join(TRAIN_PARENT_PATH,category)\n",
    "    for img in os.listdir(PATH):\n",
    "        IMG_PATH = os.path.join(PATH,img)\n",
    "        img_array = cv2.imread(IMG_PATH, cv2.IMREAD_COLOR)\n",
    "        img_array.resize(224,224,3)\n",
    "        TRAIN.append([img_array,int(category)])\n",
    "        "
   ]
  },
  {
   "cell_type": "code",
   "execution_count": 33,
   "metadata": {},
   "outputs": [],
   "source": [
    "random.shuffle(TRAIN)"
   ]
  },
  {
   "cell_type": "code",
   "execution_count": 34,
   "metadata": {},
   "outputs": [],
   "source": [
    "x_train = []\n",
    "y_train = []\n",
    "\n",
    "for feature,label in TRAIN:\n",
    "    x_train.append(feature)\n",
    "    y_train.append(label)\n",
    "\n",
    "x_train = np.array(x_train).reshape(-1,224,224,3)\n",
    "y_train = np.array(y_train).reshape(-1,1)\n",
    "x_train = x_train/255\n",
    "\n"
   ]
  },
  {
   "cell_type": "code",
   "execution_count": 35,
   "metadata": {},
   "outputs": [
    {
     "data": {
      "text/plain": [
       "(4170, 224, 224, 3)"
      ]
     },
     "execution_count": 35,
     "metadata": {},
     "output_type": "execute_result"
    }
   ],
   "source": [
    "x_train.shape"
   ]
  },
  {
   "cell_type": "code",
   "execution_count": 36,
   "metadata": {},
   "outputs": [
    {
     "data": {
      "text/plain": [
       "(4170, 1)"
      ]
     },
     "execution_count": 36,
     "metadata": {},
     "output_type": "execute_result"
    }
   ],
   "source": [
    "y_train.shape"
   ]
  },
  {
   "cell_type": "code",
   "execution_count": 39,
   "metadata": {},
   "outputs": [],
   "source": [
    "np.savez_compressed(\"/Users/abhraneelsaha/Desktop/traffic_xdata_train\",x_train)"
   ]
  },
  {
   "cell_type": "code",
   "execution_count": 40,
   "metadata": {},
   "outputs": [],
   "source": [
    "np.save(\"/Users/abhraneelsaha/Desktop/traffic_ydata_train\",y_train)"
   ]
  },
  {
   "cell_type": "markdown",
   "metadata": {},
   "source": [
    "Processing Test Data"
   ]
  },
  {
   "cell_type": "code",
   "execution_count": 41,
   "metadata": {},
   "outputs": [],
   "source": [
    "# 5 5 30 40\n",
    "\n",
    "test_imgs = [\n",
    "    \"/Users/abhraneelsaha/Desktop/traffic_signs/traffic_Data/TEST/000_1_0002_1_j.png\",\n",
    "    \"/Users/abhraneelsaha/Desktop/traffic_signs/traffic_Data/TEST/000_1_0003_1_j.png\",\n",
    "    \"/Users/abhraneelsaha/Desktop/traffic_signs/traffic_Data/TEST/002_1_0017.png\",\n",
    "    \"/Users/abhraneelsaha/Desktop/traffic_signs/traffic_Data/TEST/003_1_0028_1_j.png\" \n",
    "]\n",
    "\n",
    "processed_imgs = []\n",
    "\n",
    "for imgs in test_imgs:\n",
    "    img_array = cv2.imread(imgs,cv2.IMREAD_COLOR)\n",
    "    img_array.resize(224,224,3)\n",
    "    processed_imgs.append(img_array)\n",
    "    \n",
    "\n"
   ]
  },
  {
   "cell_type": "code",
   "execution_count": 42,
   "metadata": {},
   "outputs": [],
   "source": [
    "processed_imgs = np.array(processed_imgs).reshape(-1,224,224,3)\n",
    "processed_imgs = processed_imgs/255\n"
   ]
  },
  {
   "cell_type": "code",
   "execution_count": 43,
   "metadata": {},
   "outputs": [],
   "source": [
    "np.save(\"/Users/abhraneelsaha/Desktop/traffic_xtest_train\",processed_imgs)"
   ]
  }
 ],
 "metadata": {
  "kernelspec": {
   "display_name": "Python 3",
   "language": "python",
   "name": "python3"
  },
  "language_info": {
   "codemirror_mode": {
    "name": "ipython",
    "version": 3
   },
   "file_extension": ".py",
   "mimetype": "text/x-python",
   "name": "python",
   "nbconvert_exporter": "python",
   "pygments_lexer": "ipython3",
   "version": "3.7.3"
  }
 },
 "nbformat": 4,
 "nbformat_minor": 2
}
